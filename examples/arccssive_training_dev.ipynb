{
 "cells": [
  {
   "cell_type": "markdown",
   "metadata": {
    "collapsed": true,
    "deletable": true,
    "editable": true,
    "slideshow": {
     "slide_type": "slide"
    }
   },
   "source": [
    "### Import CMIP5 from the module and start a session"
   ]
  },
  {
   "cell_type": "markdown",
   "metadata": {
    "deletable": true,
    "editable": true,
    "slideshow": {
     "slide_type": "subslide"
    }
   },
   "source": [
    "The latest ARCCSSive stable version is available in the **~access/modules**  \n",
    "Anyone on raijin can access them, you do not need to be part of the ~access group"
   ]
  },
  {
   "cell_type": "code",
   "execution_count": 1,
   "metadata": {
    "collapsed": true,
    "deletable": true,
    "editable": true,
    "slideshow": {
     "slide_type": "fragment"
    }
   },
   "outputs": [
    {
     "name": "stderr",
     "output_type": "stream",
     "text": [
      "ERROR: Line magic function `%module` not found.\n",
      "ERROR: Line magic function `%module` not found.\n"
     ]
    }
   ],
   "source": [
    "% module use ~access/modules\n",
    "% module load pythonlib/ARCCSSive"
   ]
  },
  {
   "cell_type": "markdown",
   "metadata": {
    "deletable": true,
    "editable": true,
    "slideshow": {
     "slide_type": "subslide"
    }
   },
   "source": [
    "The database location is saved in the **$CMIP5_DB** environment variable. This is defined automatically if you have loaded ARCCSSive from the ~access/modules."
   ]
  },
  {
   "cell_type": "code",
   "execution_count": 4,
   "metadata": {
    "collapsed": false,
    "deletable": true,
    "editable": true,
    "slideshow": {
     "slide_type": "fragment"
    }
   },
   "outputs": [
    {
     "name": "stdout",
     "output_type": "stream",
     "text": [
      "env: CMIP5_DB=sqlite:////g/data1/ua6/unofficial-ESG-replica/tmp/tree/cmip5_raijin_latest.db\n"
     ]
    }
   ],
   "source": [
    "% set_env CMIP5_DB=sqlite:////g/data1/ua6/unofficial-ESG-replica/tmp/tree/cmip5_raijin_latest.db   "
   ]
  },
  {
   "cell_type": "markdown",
   "metadata": {
    "collapsed": true,
    "deletable": true,
    "editable": true,
    "slideshow": {
     "slide_type": "subslide"
    }
   },
   "source": [
    "Import **CMIP5** from the module and use the *method* **connect()** to open a connection to the database."
   ]
  },
  {
   "cell_type": "code",
   "execution_count": 5,
   "metadata": {
    "collapsed": false,
    "deletable": true,
    "editable": true,
    "slideshow": {
     "slide_type": "fragment"
    }
   },
   "outputs": [],
   "source": [
    "from ARCCSSive import CMIP5\n",
    "db=CMIP5.connect()"
   ]
  },
  {
   "cell_type": "markdown",
   "metadata": {
    "collapsed": true,
    "deletable": true,
    "editable": true,
    "slideshow": {
     "slide_type": "subslide"
    }
   },
   "source": [
    "Opening a connection creates a **session object** (in this case *db*). A *session* manages all the comunication with the database and contains all the objects which you’ve loaded or associated with it during its lifespan. Every query to the database is run through the *session*.  \n",
    "There are a number of helper functions for common operations:"
   ]
  },
  {
   "cell_type": "code",
   "execution_count": null,
   "metadata": {
    "collapsed": false,
    "deletable": true,
    "editable": true,
    "slideshow": {
     "slide_type": "fragment"
    }
   },
   "outputs": [],
   "source": [
    "db.models()"
   ]
  },
  {
   "cell_type": "markdown",
   "metadata": {
    "collapsed": true,
    "deletable": true,
    "editable": true,
    "slideshow": {
     "slide_type": "subslide"
    }
   },
   "source": [
    "models() return all the models recorded in the database,  \n",
    "experiments(), variables(), mips() produce similar lists for each respective field "
   ]
  },
  {
   "cell_type": "markdown",
   "metadata": {
    "deletable": true,
    "editable": true,
    "slideshow": {
     "slide_type": "slide"
    }
   },
   "source": [
    "### Perform a simple search"
   ]
  },
  {
   "cell_type": "markdown",
   "metadata": {
    "collapsed": true,
    "deletable": true,
    "editable": true,
    "slideshow": {
     "slide_type": "subslide"
    }
   },
   "source": [
    "To perform a search you can use the **outputs(  )** function.  \n",
    "**outputs(   )** is a 'shortcut' to perform a session.query on the Instances table.\n",
    "The following example shows all the input arguments you can use, the order doesn't matter and you can omit any of them.  \n",
    "\n",
    "> db.outputs( column-name='value', ... )  \n",
    "\n",
    "will return all the rows for the Instances table in the database."
   ]
  },
  {
   "cell_type": "code",
   "execution_count": 19,
   "metadata": {
    "collapsed": true,
    "deletable": true,
    "editable": true,
    "slideshow": {
     "slide_type": "fragment"
    }
   },
   "outputs": [],
   "source": [
    "results=db.outputs(variable='tas',experiment='historical',mip='Amon',model='MIROC-ESM-CHEM',ensemble='r1i1p1')"
   ]
  },
  {
   "cell_type": "markdown",
   "metadata": {
    "collapsed": true,
    "deletable": true,
    "editable": true,
    "slideshow": {
     "slide_type": "subslide"
    }
   },
   "source": [
    "You can check how many *instances* your search returned by using the *query* method **count()**"
   ]
  },
  {
   "cell_type": "code",
   "execution_count": 20,
   "metadata": {
    "collapsed": false,
    "deletable": true,
    "editable": true,
    "slideshow": {
     "slide_type": "fragment"
    }
   },
   "outputs": [
    {
     "data": {
      "text/plain": [
       "1"
      ]
     },
     "execution_count": 20,
     "metadata": {},
     "output_type": "execute_result"
    }
   ],
   "source": [
    "results.count()"
   ]
  },
  {
   "cell_type": "markdown",
   "metadata": {
    "deletable": true,
    "editable": true,
    "slideshow": {
     "slide_type": "subslide"
    }
   },
   "source": [
    "In this case we defined every possible constraint for the table and hence we get just one instance.  \n",
    "This should always be the case, if you use all the five attributes, because every *instance* is fully defined by these and each *instance* is unique. \n",
    "\n",
    "We can loop through the instances returned by the search and access their attributes and their *children* ( i.e. related versions and files) attributes."
   ]
  },
  {
   "cell_type": "code",
   "execution_count": 21,
   "metadata": {
    "collapsed": false,
    "deletable": true,
    "editable": true,
    "slideshow": {
     "slide_type": "fragment"
    }
   },
   "outputs": [
    {
     "name": "stdout",
     "output_type": "stream",
     "text": [
      "MIROC-ESM-CHEM tas r1i1p1\n",
      "\n",
      "drstree path is /g/data1/ua6/DRSv2/CMIP5/MIROC-ESM-CHEM/historical/mon/atmos/r1i1p1/tas/latest\n",
      "\n",
      "version v20111004\n",
      "dataset-id NA\n",
      "is_latest False checked on 2016-10-08\n",
      "\n",
      "/g/data/ua6/unofficial-ESG-replica/tmp/tree/dias-esg-nd.tkl.iis.u-tokyo.ac.jp/thredds/fileServer/esg_dataroot/outgoing/output1/MIROC/MIROC-ESM-CHEM/historical/mon/atmos/Amon/r1i1p1/v20111004/tas\n",
      "tas_Amon_MIROC-ESM-CHEM_historical_r1i1p1_185001-200512.nc 27c8356f-39f4-4d66-8915-3a5f48b76318\n",
      "None None\n",
      "\n",
      "version v20120710\n",
      "dataset-id cmip5.output1.MIROC.MIROC-ESM-CHEM.historical.mon.atmos.Amon.r1i1p1.v20120710|esgf-data1.diasjp.net\n",
      "is_latest True checked on 2016-10-08\n",
      "\n",
      "/g/data/ua6/unofficial-ESG-replica/tmp/tree/dias-esg-nd.tkl.iis.u-tokyo.ac.jp/thredds/fileServer/esg_dataroot/outgoing/output1/MIROC/MIROC-ESM-CHEM/historical/mon/atmos/Amon/r1i1p1/v20120710/tas\n",
      "tas_Amon_MIROC-ESM-CHEM_historical_r1i1p1_185001-200512.nc 27c8356f-39f4-4d66-8915-3a5f48b76318\n",
      "3459eff8fd39ff88c8b5e72f11694862 38bf378e1f11cabd42cee26124bfef6ac53e774f8ac9217ca856e103b4341acf\n"
     ]
    }
   ],
   "source": [
    "for o in results:\n",
    "    print(o.model,o.variable,o.ensemble)\n",
    "    print()\n",
    "    print(\"drstree path is \" + str(o.drstree_path()))\n",
    "    for v in o.versions:\n",
    "        print()\n",
    "        print('version', v.version)\n",
    "        print('dataset-id', v.dataset_id)\n",
    "        print('is_latest', v.is_latest, 'checked on', v.checked_on)\n",
    "        print()\n",
    "        print(v.path)\n",
    "        for f in v.files:\n",
    "            print(f.filename, f.tracking_id)\n",
    "            print(f.md5, f.sha256)"
   ]
  },
  {
   "cell_type": "markdown",
   "metadata": {
    "deletable": true,
    "editable": true,
    "slideshow": {
     "slide_type": "slide"
    }
   },
   "source": [
    "### Navigate through search results"
   ]
  },
  {
   "cell_type": "markdown",
   "metadata": {
    "deletable": true,
    "editable": true,
    "slideshow": {
     "slide_type": "subslide"
    }
   },
   "source": [
    "Let's have a better look at **results**  "
   ]
  },
  {
   "cell_type": "code",
   "execution_count": 22,
   "metadata": {
    "collapsed": false,
    "deletable": true,
    "editable": true
   },
   "outputs": [
    {
     "data": {
      "text/plain": [
       "sqlalchemy.orm.query.Query"
      ]
     },
     "execution_count": 22,
     "metadata": {},
     "output_type": "execute_result"
    }
   ],
   "source": [
    "type(results)"
   ]
  },
  {
   "cell_type": "markdown",
   "metadata": {
    "deletable": true,
    "editable": true
   },
   "source": [
    "**results** is a *query object* but as we saw before we can loop through it as we do with a list.  \n",
    "In this particular case we have only one *instance* returned in results, but we still need to use an index to access it."
   ]
  },
  {
   "cell_type": "code",
   "execution_count": 23,
   "metadata": {
    "collapsed": false,
    "deletable": true,
    "editable": true
   },
   "outputs": [
    {
     "data": {
      "text/plain": [
       "ARCCSSive.CMIP5.Model.Instance"
      ]
     },
     "execution_count": 23,
     "metadata": {},
     "output_type": "execute_result"
    }
   ],
   "source": [
    "type(results[0])"
   ]
  },
  {
   "cell_type": "markdown",
   "metadata": {
    "deletable": true,
    "editable": true
   },
   "source": [
    "A useful attribute of an *instance* is **versions**, this is a list of all the versions associated to that particular instance.  \n",
    "From a database point of view these are all the rows in the **Versions table** which are related to that particular instance."
   ]
  },
  {
   "cell_type": "code",
   "execution_count": 24,
   "metadata": {
    "collapsed": false,
    "deletable": true,
    "editable": true,
    "slideshow": {
     "slide_type": "fragment"
    }
   },
   "outputs": [
    {
     "data": {
      "text/plain": [
       "[<ARCCSSive.CMIP5.Model.Version at 0x108384e80>,\n",
       " <ARCCSSive.CMIP5.Model.Version at 0x108384ef0>]"
      ]
     },
     "execution_count": 24,
     "metadata": {},
     "output_type": "execute_result"
    }
   ],
   "source": [
    "results[0].versions"
   ]
  },
  {
   "cell_type": "markdown",
   "metadata": {
    "deletable": true,
    "editable": true,
    "slideshow": {
     "slide_type": "subslide"
    }
   },
   "source": [
    "We have two versions available for this *instance*, we can loop through them and retrieve their attributes:"
   ]
  },
  {
   "cell_type": "code",
   "execution_count": 25,
   "metadata": {
    "collapsed": false,
    "deletable": true,
    "editable": true,
    "slideshow": {
     "slide_type": "fragment"
    }
   },
   "outputs": [
    {
     "name": "stdout",
     "output_type": "stream",
     "text": [
      "\n",
      "v20111004\n",
      "\n",
      "/g/data/ua6/unofficial-ESG-replica/tmp/tree/dias-esg-nd.tkl.iis.u-tokyo.ac.jp/thredds/fileServer/esg_dataroot/outgoing/output1/MIROC/MIROC-ESM-CHEM/historical/mon/atmos/Amon/r1i1p1/v20111004/tas\n",
      "\n",
      "v20120710\n",
      "\n",
      "/g/data/ua6/unofficial-ESG-replica/tmp/tree/dias-esg-nd.tkl.iis.u-tokyo.ac.jp/thredds/fileServer/esg_dataroot/outgoing/output1/MIROC/MIROC-ESM-CHEM/historical/mon/atmos/Amon/r1i1p1/v20120710/tas\n"
     ]
    }
   ],
   "source": [
    "for o in results:\n",
    "    for v in o.versions:\n",
    "        print()\n",
    "        print(v.version)\n",
    "        print()\n",
    "        print(v.path)"
   ]
  },
  {
   "cell_type": "markdown",
   "metadata": {
    "deletable": true,
    "editable": true,
    "slideshow": {
     "slide_type": "subslide"
    }
   },
   "source": [
    "If we want to get only the *latest version*, we can use the **latest(  )** method of the Instance class. "
   ]
  },
  {
   "cell_type": "code",
   "execution_count": 26,
   "metadata": {
    "collapsed": false,
    "deletable": true,
    "editable": true,
    "slideshow": {
     "slide_type": "fragment"
    }
   },
   "outputs": [
    {
     "data": {
      "text/plain": [
       "'v20120710'"
      ]
     },
     "execution_count": 26,
     "metadata": {},
     "output_type": "execute_result"
    }
   ],
   "source": [
    "results[0].latest()[0].version"
   ]
  },
  {
   "cell_type": "markdown",
   "metadata": {
    "deletable": true,
    "editable": true,
    "slideshow": {
     "slide_type": "subslide"
    }
   },
   "source": [
    "As you might have noticed **latest(  )** returns a list of Version objects rather than only one.  \n",
    "This is because there might be different copies of the same version, downloaded from different servers.  \n",
    "Currently the database lists all of them so that if you used one rather than the other in the past you can still find it.  \n",
    "There are plans though to keep just one copy per version to facilitate the collection management and save storage resources.  \n",
    "\n",
    "Other methods available for the Instances table (*objects*) are:  \n",
    "\n",
    "+ **filenames(  )**\n",
    "+ **drstree_path(  )**"
   ]
  },
  {
   "cell_type": "code",
   "execution_count": 27,
   "metadata": {
    "collapsed": false,
    "deletable": true,
    "editable": true,
    "slideshow": {
     "slide_type": "fragment"
    }
   },
   "outputs": [
    {
     "data": {
      "text/plain": [
       "['tas_Amon_MIROC-ESM-CHEM_historical_r1i1p1_185001-200512.nc']"
      ]
     },
     "execution_count": 27,
     "metadata": {},
     "output_type": "execute_result"
    }
   ],
   "source": [
    "results[0].filenames()"
   ]
  },
  {
   "cell_type": "code",
   "execution_count": 28,
   "metadata": {
    "collapsed": false,
    "deletable": true,
    "editable": true,
    "slideshow": {
     "slide_type": "fragment"
    }
   },
   "outputs": [
    {
     "data": {
      "text/plain": [
       "'/g/data1/ua6/DRSv2/CMIP5/MIROC-ESM-CHEM/historical/mon/atmos/r1i1p1/tas/latest'"
      ]
     },
     "execution_count": 28,
     "metadata": {},
     "output_type": "execute_result"
    }
   ],
   "source": [
    "results[0].drstree_path()"
   ]
  },
  {
   "cell_type": "code",
   "execution_count": null,
   "metadata": {
    "collapsed": false,
    "deletable": true,
    "editable": true,
    "slideshow": {
     "slide_type": "fragment"
    }
   },
   "outputs": [],
   "source": [
    "% ls -l /g/data1/ua6/DRSv2/CMIP5/CCSM4/rcp45/day/atmos/r1i1p1/tas/latest"
   ]
  },
  {
   "cell_type": "markdown",
   "metadata": {
    "deletable": true,
    "editable": true,
    "slideshow": {
     "slide_type": "subslide"
    }
   },
   "source": [
    "#### !!Warning!!\n",
    "In most cases you can use directly the drstee_path() method to get to the files, but it can be useful to find all the available versions.  \n",
    "For example if you want to make sure that a new version hasn't been added recently, DRSv2 it is updated only once a week.  \n",
    "Or if you find that the version linked by the DRSv2 is incomplete, there might be another copy of the same version.  \n",
    "We hope eventually to be able to have just one copy for each version and all of them clearly defined."
   ]
  },
  {
   "cell_type": "markdown",
   "metadata": {
    "deletable": true,
    "editable": true,
    "slideshow": {
     "slide_type": "slide"
    }
   },
   "source": [
    "### Getting deeper in the query object "
   ]
  },
  {
   "cell_type": "markdown",
   "metadata": {
    "collapsed": true,
    "deletable": true,
    "editable": true
   },
   "source": [
    "Let's check exactly what the *outputs()* function returns"
   ]
  },
  {
   "cell_type": "code",
   "execution_count": 5,
   "metadata": {
    "collapsed": false,
    "deletable": true,
    "editable": true
   },
   "outputs": [
    {
     "name": "stdout",
     "output_type": "stream",
     "text": [
      "<class 'sqlalchemy.orm.query.Query'>\n"
     ]
    }
   ],
   "source": [
    "results=db.outputs(variable='tas',experiment='historical',mip='Amon',model='MIROC5')\n",
    "print(type(results))"
   ]
  },
  {
   "cell_type": "code",
   "execution_count": null,
   "metadata": {
    "collapsed": true,
    "deletable": true,
    "editable": true
   },
   "outputs": [],
   "source": [
    "# results is a \"query\" object This means that we haven't yet retrieve any actual value from the Instance table.\n",
    "# What SQLalchemy has done up to now is to generate an SQL query statement from our input arguments to pass \n",
    "# to the database. The SQL statement is executed only when we \"look\" at the results, \n",
    "# ie. when we use count(), or we access the returned objects.\n",
    "# This why the query is always instantaneous\n",
    "# try results=db.output() and see how long it takes"
   ]
  },
  {
   "cell_type": "code",
   "execution_count": 7,
   "metadata": {
    "collapsed": false,
    "deletable": true,
    "editable": true
   },
   "outputs": [],
   "source": [
    "results=db.outputs()"
   ]
  },
  {
   "cell_type": "code",
   "execution_count": 10,
   "metadata": {
    "collapsed": false,
    "deletable": true,
    "editable": true
   },
   "outputs": [
    {
     "name": "stdout",
     "output_type": "stream",
     "text": [
      "<class 'list'>\n",
      "[<ARCCSSive.CMIP5.Model.Instance object at 0x107d74d30>, <ARCCSSive.CMIP5.Model.Instance object at 0x107d74da0>, <ARCCSSive.CMIP5.Model.Instance object at 0x107d74e10>, <ARCCSSive.CMIP5.Model.Instance object at 0x107d74e80>, <ARCCSSive.CMIP5.Model.Instance object at 0x107d74ef0>]\n"
     ]
    }
   ],
   "source": [
    "results=db.outputs(variable='tas',experiment='historical',mip='Amon',model='MIROC5').all()\n",
    "print(type(results))\n",
    "print( results )"
   ]
  },
  {
   "cell_type": "code",
   "execution_count": 13,
   "metadata": {
    "collapsed": false,
    "deletable": true,
    "editable": true
   },
   "outputs": [
    {
     "name": "stdout",
     "output_type": "stream",
     "text": [
      "<class 'ARCCSSive.CMIP5.Model.Instance'>\n"
     ]
    }
   ],
   "source": [
    "results=db.outputs(variable='tas',experiment='historical',mip='Amon',model='MIROC5',ensemble='r1i1p1').one()\n",
    "print(type(results))"
   ]
  },
  {
   "cell_type": "code",
   "execution_count": 14,
   "metadata": {
    "collapsed": false,
    "deletable": true,
    "editable": true
   },
   "outputs": [
    {
     "ename": "MultipleResultsFound",
     "evalue": "Multiple rows were found for one()",
     "output_type": "error",
     "traceback": [
      "\u001b[0;31m---------------------------------------------------------------------------\u001b[0m",
      "\u001b[0;31mMultipleResultsFound\u001b[0m                      Traceback (most recent call last)",
      "\u001b[0;32m<ipython-input-14-db9320f936ba>\u001b[0m in \u001b[0;36m<module>\u001b[0;34m()\u001b[0m\n\u001b[0;32m----> 1\u001b[0;31m \u001b[0mresults\u001b[0m\u001b[0;34m=\u001b[0m\u001b[0mdb\u001b[0m\u001b[0;34m.\u001b[0m\u001b[0moutputs\u001b[0m\u001b[0;34m(\u001b[0m\u001b[0mvariable\u001b[0m\u001b[0;34m=\u001b[0m\u001b[0;34m'tas'\u001b[0m\u001b[0;34m,\u001b[0m\u001b[0mexperiment\u001b[0m\u001b[0;34m=\u001b[0m\u001b[0;34m'historical'\u001b[0m\u001b[0;34m,\u001b[0m\u001b[0mmip\u001b[0m\u001b[0;34m=\u001b[0m\u001b[0;34m'Amon'\u001b[0m\u001b[0;34m,\u001b[0m\u001b[0mmodel\u001b[0m\u001b[0;34m=\u001b[0m\u001b[0;34m'MIROC5'\u001b[0m\u001b[0;34m)\u001b[0m\u001b[0;34m.\u001b[0m\u001b[0mone\u001b[0m\u001b[0;34m(\u001b[0m\u001b[0;34m)\u001b[0m\u001b[0;34m\u001b[0m\u001b[0m\n\u001b[0m",
      "\u001b[0;32m/Users/paolap/anaconda/lib/python3.5/site-packages/sqlalchemy/orm/query.py\u001b[0m in \u001b[0;36mone\u001b[0;34m(self)\u001b[0m\n\u001b[1;32m   2725\u001b[0m         \u001b[0;32melse\u001b[0m\u001b[0;34m:\u001b[0m\u001b[0;34m\u001b[0m\u001b[0m\n\u001b[1;32m   2726\u001b[0m             raise orm_exc.MultipleResultsFound(\n\u001b[0;32m-> 2727\u001b[0;31m                 \"Multiple rows were found for one()\")\n\u001b[0m\u001b[1;32m   2728\u001b[0m \u001b[0;34m\u001b[0m\u001b[0m\n\u001b[1;32m   2729\u001b[0m     \u001b[0;32mdef\u001b[0m \u001b[0mscalar\u001b[0m\u001b[0;34m(\u001b[0m\u001b[0mself\u001b[0m\u001b[0;34m)\u001b[0m\u001b[0;34m:\u001b[0m\u001b[0;34m\u001b[0m\u001b[0m\n",
      "\u001b[0;31mMultipleResultsFound\u001b[0m: Multiple rows were found for one()"
     ]
    }
   ],
   "source": [
    "results=db.outputs(variable='tas',experiment='historical',mip='Amon',model='MIROC5').one()"
   ]
  },
  {
   "cell_type": "code",
   "execution_count": 15,
   "metadata": {
    "collapsed": false,
    "deletable": true,
    "editable": true
   },
   "outputs": [
    {
     "name": "stdout",
     "output_type": "stream",
     "text": [
      "<class 'ARCCSSive.CMIP5.Model.Instance'>\n"
     ]
    }
   ],
   "source": [
    "results=db.outputs(variable='tas',experiment='historical',mip='Amon',model='MIROC5').first()\n",
    "print(type(results))"
   ]
  },
  {
   "cell_type": "markdown",
   "metadata": {
    "deletable": true,
    "editable": true
   },
   "source": [
    "### Filter search results"
   ]
  },
  {
   "cell_type": "markdown",
   "metadata": {
    "deletable": true,
    "editable": true
   },
   "source": [
    "We can refine our results by using the SQLalchemy **filter(  )** function.    \n",
    "\n",
    "We will use the attributes ( or columns ) of the database tables as *constraints*.  \n",
    "So, first we need to import the tables definitions from ARCCSSive. "
   ]
  },
  {
   "cell_type": "code",
   "execution_count": 6,
   "metadata": {
    "collapsed": false,
    "deletable": true,
    "editable": true
   },
   "outputs": [],
   "source": [
    "from ARCCSSive.CMIP5.Model import Instance, Version, VersionFile\n",
    "#print(type(Instance))"
   ]
  },
  {
   "cell_type": "markdown",
   "metadata": {
    "deletable": true,
    "editable": true
   },
   "source": [
    "We can also import the **unique(   )** function. This function will give us all the possible values we can use to filter over a particular attribute. "
   ]
  },
  {
   "cell_type": "code",
   "execution_count": 11,
   "metadata": {
    "collapsed": true,
    "deletable": true,
    "editable": true
   },
   "outputs": [],
   "source": [
    "from ARCCSSive.CMIP5.other_functions import unique"
   ]
  },
  {
   "cell_type": "markdown",
   "metadata": {
    "deletable": true,
    "editable": true
   },
   "source": [
    "Let's do a new query"
   ]
  },
  {
   "cell_type": "code",
   "execution_count": 31,
   "metadata": {
    "collapsed": false,
    "deletable": true,
    "editable": true
   },
   "outputs": [
    {
     "data": {
      "text/plain": [
       "105"
      ]
     },
     "execution_count": 31,
     "metadata": {},
     "output_type": "execute_result"
    }
   ],
   "source": [
    "results=db.outputs(variable='tas',experiment='rcp45',mip='day')\n",
    "results.count()"
   ]
  },
  {
   "cell_type": "markdown",
   "metadata": {
    "deletable": true,
    "editable": true
   },
   "source": [
    "We would like to filter the results by ensemble, so we will use **unique(  )** to get all the possible ensemble values."
   ]
  },
  {
   "cell_type": "code",
   "execution_count": 32,
   "metadata": {
    "collapsed": false,
    "deletable": true,
    "editable": true
   },
   "outputs": [
    {
     "name": "stdout",
     "output_type": "stream",
     "text": [
      "['r10i1p1', 'r11i1p1', 'r12i1p1', 'r13i1p1', 'r14i1p1', 'r1i1p1', 'r1i2p1', 'r2i1p1', 'r2i2p1', 'r3i1p1', 'r3i2p1', 'r4i1p1', 'r5i1p1', 'r6i1p1', 'r6i1p3', 'r7i1p1', 'r8i1p1', 'r9i1p1']\n"
     ]
    }
   ],
   "source": [
    "ensembles=unique(results,'ensemble')\n",
    "print(ensembles)"
   ]
  },
  {
   "cell_type": "markdown",
   "metadata": {
    "deletable": true,
    "editable": true
   },
   "source": [
    "**unique( results, 'attribute' )** takes two inputs:  \n",
    "* results is a *query object* on the Instances table, for example what is returned by the db.outputs(  ) function\n",
    "* 'attribute' is a string defining a particular attribute or column of the Instances table, for example 'model'  \n",
    "\n",
    "**unique(   )** lists all the distinct values returned by the query for that particular attribute."
   ]
  },
  {
   "cell_type": "markdown",
   "metadata": {
    "deletable": true,
    "editable": true
   },
   "source": [
    "Now that we know all the ensembles values, let's choose one to filter our results."
   ]
  },
  {
   "cell_type": "code",
   "execution_count": 34,
   "metadata": {
    "collapsed": false,
    "deletable": true,
    "editable": true
   },
   "outputs": [
    {
     "name": "stdout",
     "output_type": "stream",
     "text": [
      "6\n"
     ]
    },
    {
     "data": {
      "text/plain": [
       "['r6i1p1']"
      ]
     },
     "execution_count": 34,
     "metadata": {},
     "output_type": "execute_result"
    }
   ],
   "source": [
    "r6i1p1_ens=results.filter(Instance.ensemble == 'r6i1p1')\n",
    "print( r6i1p1_ens.count() )\n",
    "unique(r6i1p1_ens,'ensemble')"
   ]
  },
  {
   "cell_type": "markdown",
   "metadata": {
    "deletable": true,
    "editable": true
   },
   "source": [
    "We used the **==** equals operator to select all the r61i1p1 ensembles.  \n",
    "If we wanted all the \"r6i1p#\" ensembles regardless of their physics (p) value we could have used the **like** operator.  "
   ]
  },
  {
   "cell_type": "code",
   "execution_count": 35,
   "metadata": {
    "collapsed": false,
    "deletable": true,
    "editable": true
   },
   "outputs": [
    {
     "name": "stdout",
     "output_type": "stream",
     "text": [
      "8\n"
     ]
    },
    {
     "data": {
      "text/plain": [
       "['r6i1p1', 'r6i1p3']"
      ]
     },
     "execution_count": 35,
     "metadata": {},
     "output_type": "execute_result"
    }
   ],
   "source": [
    "r6i1_ens=results.filter(Instance.ensemble.like('r6i1p%'))\n",
    "print( r6i1_ens.count() )\n",
    "unique(r6i1_ens,'ensemble')"
   ]
  },
  {
   "cell_type": "markdown",
   "metadata": {
    "deletable": true,
    "editable": true
   },
   "source": [
    "If we want to search two variables at the same time we can leave the variable constraints out of the query inputs,  \n",
    "and then use **filter** with the **in_** operator to select them."
   ]
  },
  {
   "cell_type": "code",
   "execution_count": 36,
   "metadata": {
    "collapsed": false,
    "deletable": true,
    "editable": true
   },
   "outputs": [
    {
     "data": {
      "text/plain": [
       "73"
      ]
     },
     "execution_count": 36,
     "metadata": {},
     "output_type": "execute_result"
    }
   ],
   "source": [
    "results=db.outputs(ensemble='r1i1p1',experiment='rcp45',mip='day')\\\n",
    ".filter(Instance.variable.in_(['tasmin','tasmax']))\n",
    "results.count()"
   ]
  },
  {
   "cell_type": "markdown",
   "metadata": {
    "deletable": true,
    "editable": true
   },
   "source": [
    "As you can see filter can follow directly the query, i.e. the **outputs(  )** function.  \n",
    "In fact, you can refine a query with how many successive filters as you want."
   ]
  },
  {
   "cell_type": "code",
   "execution_count": 37,
   "metadata": {
    "collapsed": false,
    "deletable": true,
    "editable": true
   },
   "outputs": [
    {
     "data": {
      "text/plain": [
       "22"
      ]
     },
     "execution_count": 37,
     "metadata": {},
     "output_type": "execute_result"
    }
   ],
   "source": [
    "results=db.outputs(ensemble='r1i1p1',experiment='rcp45',mip='day')\\\n",
    ".filter(Instance.variable.in_(['tasmin','tasmax']))\\\n",
    ".filter(Instance.model.like('%ESM%'))\n",
    "results.count()"
   ]
  },
  {
   "cell_type": "markdown",
   "metadata": {
    "deletable": true,
    "editable": true
   },
   "source": [
    "### More on SQLalchemy filter and operators"
   ]
  },
  {
   "cell_type": "code",
   "execution_count": null,
   "metadata": {
    "collapsed": true,
    "deletable": true,
    "editable": true
   },
   "outputs": [],
   "source": [
    "from sqlalchemy import and_, or_"
   ]
  },
  {
   "cell_type": "markdown",
   "metadata": {
    "deletable": true,
    "editable": true
   },
   "source": [
    "I can keep on adding more and more filter statements or I can combine them using **and_(  )** and **or_(  )**"
   ]
  },
  {
   "cell_type": "code",
   "execution_count": null,
   "metadata": {
    "collapsed": false,
    "deletable": true,
    "editable": true
   },
   "outputs": [],
   "source": [
    "results=db.outputs(ensemble='r1i1p1',experiment='rcp45',mip='day')\\\n",
    ".filter(and_(Instance.variable.in_(['tasmin','tasmax']), Instance.model.like('%ESM%')))\n",
    "results.count()"
   ]
  },
  {
   "cell_type": "code",
   "execution_count": null,
   "metadata": {
    "collapsed": false,
    "deletable": true,
    "editable": true
   },
   "outputs": [],
   "source": [
    "results=db.outputs(ensemble='r1i1p1',experiment='rcp45',mip='day')\\\n",
    ".filter(or_(Instance.variable.in_(['tasmin','tasmax']), Instance.model.like('%ESM%')))\n",
    "results.count()"
   ]
  },
  {
   "cell_type": "markdown",
   "metadata": {
    "deletable": true,
    "editable": true
   },
   "source": [
    "**and_(  )** returns the same results as using two filters one after the other  \n",
    "Let's try to pass two constraints directly to the same filter"
   ]
  },
  {
   "cell_type": "code",
   "execution_count": 25,
   "metadata": {
    "collapsed": false,
    "deletable": true,
    "editable": true
   },
   "outputs": [
    {
     "data": {
      "text/plain": [
       "22"
      ]
     },
     "execution_count": 25,
     "metadata": {},
     "output_type": "execute_result"
    }
   ],
   "source": [
    "results=db.outputs(ensemble='r1i1p1',experiment='rcp45',mip='day')\\\n",
    ".filter(Instance.variable.in_(['tasmin','tasmax']), Instance.model.like('%ESM%'))\n",
    "results.count()"
   ]
  },
  {
   "cell_type": "markdown",
   "metadata": {
    "deletable": true,
    "editable": true
   },
   "source": [
    "Again we're getting the same result as if we used **and_(   )**"
   ]
  },
  {
   "cell_type": "markdown",
   "metadata": {
    "deletable": true,
    "editable": true
   },
   "source": [
    "### Using the search results to open the files"
   ]
  },
  {
   "cell_type": "markdown",
   "metadata": {
    "deletable": true,
    "editable": true
   },
   "source": [
    "Once we have found the instances and versions we want to use we can use their path to find the files and work with them.  \n",
    "First we load numpy and the netcdf module."
   ]
  },
  {
   "cell_type": "code",
   "execution_count": 22,
   "metadata": {
    "collapsed": false,
    "deletable": true,
    "editable": true
   },
   "outputs": [],
   "source": [
    "import numpy as np\n",
    "from netCDF4 import MFDataset"
   ]
  },
  {
   "cell_type": "markdown",
   "metadata": {
    "deletable": true,
    "editable": true
   },
   "source": [
    "All you need to open a file is the location, this is stored in the Versions table in the database as *path*.  \n",
    "Alternatively you can use the *drstree* path, that is returned by the Instance *drstree_path(  )* method."
   ]
  },
  {
   "cell_type": "markdown",
   "metadata": {
    "deletable": true,
    "editable": true
   },
   "source": [
    "Let's define a simple function that reads a variable from a file and calculate its maximum value.  \n",
    "We will use MFDataset(  ) from the netcDF4 module to open all the netcdf files in the input path as one aggregated file."
   ]
  },
  {
   "cell_type": "code",
   "execution_count": null,
   "metadata": {
    "collapsed": true,
    "deletable": true,
    "editable": true
   },
   "outputs": [],
   "source": [
    "def var_max(var,path):\n",
    "    ''' calculate max value for variable '''\n",
    "    \n",
    "    # MFDataset will open all netcdf files in path as one aggregated file    \n",
    "    print(path+\"/*.nc\")\n",
    "    # open the file\n",
    "    nc=MFDataset(path+\"/*.nc\",'r')\n",
    "    # read the variable from file into a numpy array\n",
    "    data = nc.variables[var][:]\n",
    "    # close the file\n",
    "    nc.close()\n",
    "    # return the maximum\n",
    "    return np.max(data)"
   ]
  },
  {
   "cell_type": "markdown",
   "metadata": {
    "deletable": true,
    "editable": true
   },
   "source": [
    "Now we perform a search, loop through the results and pass the Version path attribute to the var_max(  ) function"
   ]
  },
  {
   "cell_type": "code",
   "execution_count": 47,
   "metadata": {
    "collapsed": false,
    "deletable": true,
    "editable": true
   },
   "outputs": [
    {
     "name": "stdout",
     "output_type": "stream",
     "text": [
      "8\n",
      "/g/data/ua6/unofficial-ESG-replica/tmp/tree/dias-esg-nd.tkl.iis.u-tokyo.ac.jp/thredds/fileServer/esg_dataroot/outgoing/output1/MIROC/MIROC-ESM/rcp45/day/atmos/day/r1i1p1/v20120710/tas/*.nc\n",
      "()\n",
      "Maximum value for variable tas, version v20120710 is 330\n",
      "/g/data/ua6/unofficial-ESG-replica/tmp/tree/albedo2.dkrz.de/thredds/fileServer/cmip5/output1/MIROC/MIROC5/rcp45/day/atmos/day/r1i1p1/v20120710/tas/*.nc\n",
      "()\n",
      "Maximum value for variable tas, version v20120710 is 325\n"
     ]
    }
   ],
   "source": [
    "results=db.outputs(ensemble='r1i1p1',experiment='rcp45',mip='day').filter(Instance.model.like('MIROC%'))\\\n",
    ".filter(Instance.variable.in_(['tas','pr']))\n",
    "print(results.count())\n",
    "\n",
    "for o in results[:2]:\n",
    "    var = o.variable\n",
    "    for v in o.versions:\n",
    "        path=str(v.path)\n",
    "        varmax=var_max(var,path)\n",
    "        print()\n",
    "        print('Maximum value for variable %s, version %s is %d' % (var, v.version, varmax))"
   ]
  },
  {
   "cell_type": "markdown",
   "metadata": {
    "deletable": true,
    "editable": true
   },
   "source": [
    "NB if you pass directly *v.path* value you get an error because the databse return unicode string, so you need to use the str(  ) function to convert to a normal string."
   ]
  },
  {
   "cell_type": "markdown",
   "metadata": {
    "deletable": true,
    "editable": true
   },
   "source": [
    "### How to integrate ARCCSSive in your python script"
   ]
  },
  {
   "cell_type": "markdown",
   "metadata": {
    "deletable": true,
    "editable": true
   },
   "source": [
    "In the previous example we simply looped through the results returned by the search as they were and passed them to a function that opened the files.  \n",
    "But what if we want to do something more complex?  \n",
    "Let's say that we want to pass two variables to a function and do it for every model/ensemble that has both of them for a fixed experiment and mip\n",
    "Mostly users would somehow loop over the drstree path, doing something like:  \n",
    "> cd /g/data1/ua6/DRSv2/CMIP5  \n",
    "> list all models and save in model_list\n",
    "> for model in model_list:\n",
    ">     list all eavailable ensembles and save in ensemble_list\n",
    ">     for ensemble in ensemble_list:\n",
    ">         call_function(var1_path, var2_path)\n",
    "\n",
    "Using ARCCSSIve we can do the same using the **unique(   )** function to return the list of all available models/ensembles.  \n",
    "Let's start from defining a simple function that calculates the difference bewteen the values of two variables."
   ]
  },
  {
   "cell_type": "code",
   "execution_count": 48,
   "metadata": {
    "collapsed": true,
    "deletable": true,
    "editable": true
   },
   "outputs": [],
   "source": [
    "def vars_difference(var1,path1,var2,path2):\n",
    "    ''' calculate difference between the mean of two variables '''\n",
    "    \n",
    "    # open the files and read both variables\n",
    "    nc1=MFDataset(path1+\"/*.nc\",'r')\n",
    "    data1 = nc1.variables[var1][:]\n",
    "    nc1.close()\n",
    "    nc2=MFDataset(path2+\"/*.nc\",'r')\n",
    "    data2 = nc2.variables[var2][:]\n",
    "    nc2.close()\n",
    "    \n",
    "    # return the difference between the two means\n",
    "    return np.mean(data2) - np.mean(data1)"
   ]
  },
  {
   "cell_type": "markdown",
   "metadata": {
    "collapsed": true,
    "deletable": true,
    "editable": true
   },
   "source": [
    "Now let's do the another search and get tasmin and tasmax"
   ]
  },
  {
   "cell_type": "code",
   "execution_count": 9,
   "metadata": {
    "collapsed": false
   },
   "outputs": [
    {
     "data": {
      "text/plain": [
       "8"
      ]
     },
     "execution_count": 9,
     "metadata": {},
     "output_type": "execute_result"
    }
   ],
   "source": [
    "results=db.outputs(ensemble='r1i1p1',experiment='rcp45',mip='Amon').filter(Instance.model.like('MIROC%'))\\\n",
    ".filter(Instance.variable.in_(['tasmin','tasmax']))\n",
    "results.count()"
   ]
  },
  {
   "cell_type": "markdown",
   "metadata": {},
   "source": [
    "Get the list of distinct models and ensembles using unique"
   ]
  },
  {
   "cell_type": "code",
   "execution_count": 16,
   "metadata": {
    "collapsed": false
   },
   "outputs": [],
   "source": [
    "models=unique(results,'model')\n",
    "ensembles=unique(results,'ensemble')"
   ]
  },
  {
   "cell_type": "markdown",
   "metadata": {},
   "source": [
    "Now we loop over the models and the ensembles, for each model-ensemble combination we call the function if we have an instance for both variables."
   ]
  },
  {
   "cell_type": "code",
   "execution_count": 23,
   "metadata": {
    "collapsed": false
   },
   "outputs": [
    {
     "name": "stdout",
     "output_type": "stream",
     "text": [
      "Difference for model MIROC-ESM and ensemble r1i1p1 is 3.35574\n",
      "Difference for model MIROC-ESM-CHEM and ensemble r1i1p1 is 3.42337\n",
      "Difference for model MIROC4h and ensemble r1i1p1 is 3.8334\n",
      "Difference for model MIROC5 and ensemble r1i1p1 is 3.60251\n"
     ]
    }
   ],
   "source": [
    "for mod in models:\n",
    "    for ens in ensembles:\n",
    "        # we filter twice the reuslts, using the model and ensemble values plus one the variable at the time\n",
    "        tasmin_inst=results.filter(Instance.model==mod, Instance.ensemble==ens, Instance.variable=='tasmin').first()\n",
    "        tasmax_inst=results.filter(Instance.model==mod, Instance.ensemble==ens, Instance.variable=='tasmax').first()\n",
    "        # we check that both filters returned something and call the function if they did\n",
    "        if tasmax_inst and tasmin_inst:\n",
    "            tasmin_path=tasmin_inst.latest()[0].path\n",
    "            tasmax_path=tasmax_inst.latest()[0].path\n",
    "            diff=vars_difference('tasmin',str(tasmin_path),'tasmax',str(tasmax_path))\n",
    "            print('Difference for model %s and ensemble %s is %d' % (mod, ens, diff))"
   ]
  },
  {
   "cell_type": "markdown",
   "metadata": {},
   "source": [
    "**NB** we used **first(  )** after the filter because we know we should be getting back either 1 instance or None. We cannot use **one(  )** because that would return an error if it can't find anything.  \n",
    "Also we should have checked that we are using the same versions for both variables rather than just getting the latest!  \n",
    "\n",
    "This is just an attempt to replicate the way we use drstree but when you get more familiar with the module and with SQLalchemy you can set up more sophysticated searches. For example, in this case a better way to achieve the same result would have been using the SQLalchemy **aliased(  )** function."
   ]
  },
  {
   "cell_type": "code",
   "execution_count": 43,
   "metadata": {
    "collapsed": false
   },
   "outputs": [
    {
     "ename": "SyntaxError",
     "evalue": "invalid syntax (<ipython-input-43-937fdc35c605>, line 2)",
     "output_type": "error",
     "traceback": [
      "\u001b[0;36m  File \u001b[0;32m\"<ipython-input-43-937fdc35c605>\"\u001b[0;36m, line \u001b[0;32m2\u001b[0m\n\u001b[0;31m    results.query(Instance.variable, label('var', Instance.variable).group_by(Instance.variable)\u001b[0m\n\u001b[0m                                                                                                ^\u001b[0m\n\u001b[0;31mSyntaxError\u001b[0m\u001b[0;31m:\u001b[0m invalid syntax\n"
     ]
    }
   ],
   "source": [
    "results=db.outputs(ensemble='r1i1p1',experiment='rcp45',mip='Amon').filter(Instance.model.like('MIROC%'))\\\n",
    ".filter(Instance.variable.in_(['tasmin','tasmax']))\n",
    "results.query(Instance.variable, label('var', Instance.variable).group_by(Instance.variable)"
   ]
  },
  {
   "cell_type": "code",
   "execution_count": 39,
   "metadata": {
    "collapsed": false
   },
   "outputs": [
    {
     "name": "stdout",
     "output_type": "stream",
     "text": [
      "(u'MIROC4h', u'r1i1p1', u'tasmax', [<ARCCSSive.CMIP5.Model.Version object at 0x7f69e028c190>, <ARCCSSive.CMIP5.Model.Version object at 0x7f69e028cc50>])\n",
      "(u'MIROC4h', u'r1i1p1', u'tasmin', [<ARCCSSive.CMIP5.Model.Version object at 0x7f69e0271050>, <ARCCSSive.CMIP5.Model.Version object at 0x7f69e0271990>])\n"
     ]
    }
   ],
   "source": [
    "for o in results:\n",
    "    print(o.model, o.ensemble, o.variable, o.versions)"
   ]
  },
  {
   "cell_type": "markdown",
   "metadata": {},
   "source": [
    "So now each item of results is composed of two instances, all the fields are in common "
   ]
  },
  {
   "cell_type": "code",
   "execution_count": 26,
   "metadata": {
    "collapsed": true
   },
   "outputs": [],
   "source": []
  },
  {
   "cell_type": "code",
   "execution_count": null,
   "metadata": {
    "collapsed": true
   },
   "outputs": [],
   "source": [
    "results=db.outputs(ensemble='r1i1p1',experiment='rcp45',mip='Amon').filter(Instance.model.like('MIROC%'))\\\n",
    ".filter(Instance.variable.in_(['tasmin','tasmax']))\n",
    "results.count()\n",
    "results=CMIP5.query(tasminInstance, tasmaxInstance).join(\n",
    "      (ensemble='r1i1p1',experiment='rcp45',mip='Amon').filter(Instance.model.like('MIROC%'))\\\n",
    ".filter(Instance.variable.in_(['tasmin','tasmax']))\n",
    "results.count()"
   ]
  }
 ],
 "metadata": {
  "anaconda-cloud": {},
  "kernelspec": {
   "display_name": "Python [conda env:analysis27]",
   "language": "python",
   "name": "conda-env-analysis27-py"
  },
  "language_info": {
   "codemirror_mode": {
    "name": "ipython",
    "version": 2
   },
   "file_extension": ".py",
   "mimetype": "text/x-python",
   "name": "python",
   "nbconvert_exporter": "python",
   "pygments_lexer": "ipython2",
   "version": "2.7.13"
  }
 },
 "nbformat": 4,
 "nbformat_minor": 0
}
